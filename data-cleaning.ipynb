{
 "cells": [
  {
   "cell_type": "code",
   "execution_count": 2,
   "id": "18100e7a-76da-4e6f-b43d-892aed34dc0b",
   "metadata": {},
   "outputs": [
    {
     "name": "stdout",
     "output_type": "stream",
     "text": [
      "Original Data:\n",
      "  2014 Temp. (°C) Unnamed: 2 Unnamed: 3 Dew Point (°C) Unnamed: 5 Unnamed: 6  \\\n",
      "0  Apr       high        avg        low           high        avg        low   \n",
      "1    1         14          8          3              2         -2         -4   \n",
      "2    2          9          6          3              5          3          1   \n",
      "3    3         17         11          4              5          1         -6   \n",
      "4    4          7          6          5              6          3          2   \n",
      "\n",
      "  Humidity (%) Unnamed: 8 Unnamed: 9  ... Unnamed: 11 Unnamed: 12  \\\n",
      "0         high        avg        low  ...         avg         low   \n",
      "1           76         56         35  ...        1019        1016   \n",
      "2           92         81         70  ...        1020        1019   \n",
      "3           92         57         22  ...        1019        1017   \n",
      "4           92         84         76  ...        1015        1007   \n",
      "\n",
      "  Visibility (km) Unnamed: 14 Unnamed: 15 Wind (km/h) Unnamed: 17 Unnamed: 18  \\\n",
      "0            high         avg         low        high         avg        high   \n",
      "1              16          16          16          26          16          40   \n",
      "2              16          16          16          16           6          32   \n",
      "3              16          16          13          21           9          26   \n",
      "4              16          13           4          42          22          52   \n",
      "\n",
      "  Precip. (mm) Events  \n",
      "0          sum    NaN  \n",
      "1            0    NaN  \n",
      "2         0.76   Rain  \n",
      "3         2.03   Rain  \n",
      "4         2.54   Rain  \n",
      "\n",
      "[5 rows x 21 columns] \n",
      "\n"
     ]
    },
    {
     "name": "stderr",
     "output_type": "stream",
     "text": [
      "/Users/felix1025/miniconda3/lib/python3.12/site-packages/openpyxl/worksheet/_reader.py:329: UserWarning: Unknown extension is not supported and will be removed\n",
      "  warn(msg)\n"
     ]
    }
   ],
   "source": [
    "import pandas as pd\n",
    "\n",
    "# Step 1: Read in the data\n",
    "df = pd.read_excel('NY Weather Data - Apr 14 - Jul 14 (1).xlsx')\n",
    "print(\"Original Data:\")\n",
    "print(df.head(), \"\\n\")"
   ]
  },
  {
   "cell_type": "code",
   "execution_count": 3,
   "id": "4786db03-2861-4cd2-893e-2542be6cd59a",
   "metadata": {},
   "outputs": [
    {
     "name": "stdout",
     "output_type": "stream",
     "text": [
      "Month Indices: [0, 32, 65, 97] \n",
      "\n"
     ]
    }
   ],
   "source": [
    "# Step 2: Get the row indices indicating month names (string type)\n",
    "data_index = [i for i in range(len(df)) if str(df[2014][i]).isalpha()]\n",
    "print(\"Month Indices:\", data_index, \"\\n\")\n"
   ]
  },
  {
   "cell_type": "code",
   "execution_count": 6,
   "id": "c51f029e-5193-4acb-82bc-3af7949490bb",
   "metadata": {},
   "outputs": [
    {
     "name": "stdout",
     "output_type": "stream",
     "text": [
      "First Month Data (raw split):\n",
      "  2014 Temp. (°C) Unnamed: 2 Unnamed: 3 Dew Point (°C) Unnamed: 5 Unnamed: 6  \\\n",
      "0  Apr       high        avg        low           high        avg        low   \n",
      "1    1         14          8          3              2         -2         -4   \n",
      "2    2          9          6          3              5          3          1   \n",
      "3    3         17         11          4              5          1         -6   \n",
      "4    4          7          6          5              6          3          2   \n",
      "\n",
      "  Humidity (%) Unnamed: 8 Unnamed: 9  ... Unnamed: 11 Unnamed: 12  \\\n",
      "0         high        avg        low  ...         avg         low   \n",
      "1           76         56         35  ...        1019        1016   \n",
      "2           92         81         70  ...        1020        1019   \n",
      "3           92         57         22  ...        1019        1017   \n",
      "4           92         84         76  ...        1015        1007   \n",
      "\n",
      "  Visibility (km) Unnamed: 14 Unnamed: 15 Wind (km/h) Unnamed: 17 Unnamed: 18  \\\n",
      "0            high         avg         low        high         avg        high   \n",
      "1              16          16          16          26          16          40   \n",
      "2              16          16          16          16           6          32   \n",
      "3              16          16          13          21           9          26   \n",
      "4              16          13           4          42          22          52   \n",
      "\n",
      "  Precip. (mm) Events  \n",
      "0          sum    NaN  \n",
      "1            0    NaN  \n",
      "2         0.76   Rain  \n",
      "3         2.03   Rain  \n",
      "4         2.54   Rain  \n",
      "\n",
      "[5 rows x 21 columns] \n",
      "\n"
     ]
    }
   ],
   "source": [
    "# Step 3: Split data by month into a list\n",
    "data = []\n",
    "for i in range(len(data_index)):\n",
    "    if i != len(data_index) - 1:\n",
    "        data.append(df.iloc(axis=0)[data_index[i]:data_index[i+1]-1].reset_index(drop=True))\n",
    "    else:\n",
    "        data.append(df.iloc(axis=0)[data_index[i]:].reset_index(drop=True))\n",
    "print(\"First Month Data (raw split):\")\n",
    "print(data[0].head(), \"\\n\")"
   ]
  },
  {
   "cell_type": "code",
   "execution_count": 7,
   "id": "0292e10a-a126-4319-96dc-7cf0468fdb9e",
   "metadata": {},
   "outputs": [
    {
     "name": "stdout",
     "output_type": "stream",
     "text": [
      "Column Names: [2014, 'Temp. (°C)', 'Dew Point (°C)', 'Humidity (%)', 'Sea Level Press. (hPa)', 'Visibility (km)', 'Wind (km/h)', 'Precip. (mm)', 'Events'] \n",
      "\n",
      "Split Column Names: ['Temp. (°C)', 'Temp. (°C)', 'Temp. (°C)', 'Dew Point (°C)', 'Dew Point (°C)', 'Dew Point (°C)', 'Humidity (%)', 'Humidity (%)', 'Humidity (%)', 'Sea Level Press. (hPa)', 'Sea Level Press. (hPa)', 'Sea Level Press. (hPa)', 'Visibility (km)', 'Visibility (km)', 'Visibility (km)', 'Wind (km/h)', 'Wind (km/h)', 'Wind (km/h)'] \n",
      "\n"
     ]
    }
   ],
   "source": [
    "# Step 4: Extract all relevant column names\n",
    "column_names = [i for i in df.columns.tolist() if 'Unnamed' not in str(i)]\n",
    "print(\"Column Names:\", column_names, \"\\n\")\n",
    "\n",
    "# Step 5: Create detailed columns by splitting original columns\n",
    "columns = []\n",
    "for i in column_names[1:-2]:\n",
    "    columns = columns + ((i + ',') * 3).split(',')[:-1]\n",
    "\n",
    "print(\"Split Column Names:\", columns, \"\\n\")\n"
   ]
  },
  {
   "cell_type": "code",
   "execution_count": 8,
   "id": "80a519ee-4b81-4811-95d7-fc794951dea7",
   "metadata": {},
   "outputs": [
    {
     "name": "stdout",
     "output_type": "stream",
     "text": [
      "First Month Data (after date format and column adjustment):\n",
      "       2014 Temp. (°C) Temp. (°C) Temp. (°C) Dew Point (°C) Dew Point (°C)  \\\n",
      "0       Apr       high        avg        low           high            avg   \n",
      "1  2014/4/1         14          8          3              2             -2   \n",
      "2  2014/4/2          9          6          3              5              3   \n",
      "3  2014/4/3         17         11          4              5              1   \n",
      "4  2014/4/4          7          6          5              6              3   \n",
      "\n",
      "  Dew Point (°C) Humidity (%) Humidity (%) Humidity (%)  ...  \\\n",
      "0            low         high          avg          low  ...   \n",
      "1             -4           76           56           35  ...   \n",
      "2              1           92           81           70  ...   \n",
      "3             -6           92           57           22  ...   \n",
      "4              2           92           84           76  ...   \n",
      "\n",
      "  Sea Level Press. (hPa) Sea Level Press. (hPa) Visibility (km)  \\\n",
      "0                    avg                    low            high   \n",
      "1                   1019                   1016              16   \n",
      "2                   1020                   1019              16   \n",
      "3                   1019                   1017              16   \n",
      "4                   1015                   1007              16   \n",
      "\n",
      "  Visibility (km) Visibility (km) Wind (km/h) Wind (km/h) Wind (km/h)  \\\n",
      "0             avg             low        high         avg        high   \n",
      "1              16              16          26          16          40   \n",
      "2              16              16          16           6          32   \n",
      "3              16              13          21           9          26   \n",
      "4              13               4          42          22          52   \n",
      "\n",
      "  Precip. (mm) Events  \n",
      "0          sum    NaN  \n",
      "1            0    NaN  \n",
      "2         0.76   Rain  \n",
      "3         2.03   Rain  \n",
      "4         2.54   Rain  \n",
      "\n",
      "[5 rows x 21 columns] \n",
      "\n"
     ]
    },
    {
     "name": "stderr",
     "output_type": "stream",
     "text": [
      "/var/folders/21/2vww23053nl1mz7by1h2_vb40000gn/T/ipykernel_9010/1200545088.py:6: FutureWarning: ChainedAssignmentError: behaviour will change in pandas 3.0!\n",
      "You are setting values through chained assignment. Currently this works in certain cases, but when using Copy-on-Write (which will become the default behaviour in pandas 3.0) this will never work to update the original DataFrame or Series, because the intermediate object on which we are setting values will behave as a copy.\n",
      "A typical example is when you are setting values in a column of a DataFrame, like:\n",
      "\n",
      "df[\"col\"][row_indexer] = value\n",
      "\n",
      "Use `df.loc[row_indexer, \"col\"] = values` instead, to perform the assignment in a single step and ensure this keeps updating the original `df`.\n",
      "\n",
      "See the caveats in the documentation: https://pandas.pydata.org/pandas-docs/stable/user_guide/indexing.html#returning-a-view-versus-a-copy\n",
      "\n",
      "  frame[2014][1:] = frame[2014][1:].apply(lambda x: '2014/' + month_dict[frame[2014][0]] + '/' + str(x))\n"
     ]
    }
   ],
   "source": [
    "# Step 6: Mapping month names to numbers\n",
    "month_dict = {'Apr': '4', 'May': '5', 'Jun': '6', 'Jul': '7'}\n",
    "\n",
    "# Step 7: Format date and adjust columns\n",
    "for frame in data:\n",
    "    frame[2014][1:] = frame[2014][1:].apply(lambda x: '2014/' + month_dict[frame[2014][0]] + '/' + str(x))\n",
    "    frame.columns = [str(df.columns[0])] + columns + df.columns[-2:].tolist()\n",
    "\n",
    "print(\"First Month Data (after date format and column adjustment):\")\n",
    "print(data[0].head(), \"\\n\")"
   ]
  },
  {
   "cell_type": "code",
   "execution_count": 10,
   "id": "5dd4b9c6-2961-4122-8542-f5d6649d634b",
   "metadata": {},
   "outputs": [
    {
     "name": "stdout",
     "output_type": "stream",
     "text": [
      "New Combined Headers: ['Date', 'Temp. (°C)-high', 'Temp. (°C)-avg', 'Temp. (°C)-low', 'Dew Point (°C)-high', 'Dew Point (°C)-avg', 'Dew Point (°C)-low', 'Humidity (%)-high', 'Humidity (%)-avg', 'Humidity (%)-low', 'Sea Level Press. (hPa)-high', 'Sea Level Press. (hPa)-avg', 'Sea Level Press. (hPa)-low', 'Visibility (km)-high', 'Visibility (km)-avg', 'Visibility (km)-low', 'Wind (km/h)-high', 'Wind (km/h)-avg', 'Wind (km/h)-high', 'Precip. (mm)', 'Events'] \n",
      "\n"
     ]
    }
   ],
   "source": [
    "# Step 8: Generate new combined headers\n",
    "new_cols = []\n",
    "for i, j in zip(data[0].columns[1:-2], data[0].iloc(axis=0)[0][1:-2]):\n",
    "    new_cols.append(i + '-' + j)\n",
    "new_cols = ['Date'] + new_cols + data[0].columns[-2:].tolist()\n",
    "\n",
    "print(\"New Combined Headers:\", new_cols, \"\\n\")"
   ]
  },
  {
   "cell_type": "code",
   "execution_count": 11,
   "id": "3fb14a06-338e-40df-bbb5-f9b04541bf61",
   "metadata": {},
   "outputs": [
    {
     "name": "stdout",
     "output_type": "stream",
     "text": [
      "First Month Data (finalized headers):\n",
      "       Date Temp. (°C)-high Temp. (°C)-avg Temp. (°C)-low Dew Point (°C)-high  \\\n",
      "1  2014/4/1              14              8              3                   2   \n",
      "2  2014/4/2               9              6              3                   5   \n",
      "3  2014/4/3              17             11              4                   5   \n",
      "4  2014/4/4               7              6              5                   6   \n",
      "5  2014/4/5              14              9              5                   6   \n",
      "\n",
      "  Dew Point (°C)-avg Dew Point (°C)-low Humidity (%)-high Humidity (%)-avg  \\\n",
      "1                 -2                 -4                76               56   \n",
      "2                  3                  1                92               81   \n",
      "3                  1                 -6                92               57   \n",
      "4                  3                  2                92               84   \n",
      "5                  0                 -6                93               63   \n",
      "\n",
      "  Humidity (%)-low  ... Sea Level Press. (hPa)-avg Sea Level Press. (hPa)-low  \\\n",
      "1               35  ...                       1019                       1016   \n",
      "2               70  ...                       1020                       1019   \n",
      "3               22  ...                       1019                       1017   \n",
      "4               76  ...                       1015                       1007   \n",
      "5               32  ...                       1011                       1007   \n",
      "\n",
      "  Visibility (km)-high Visibility (km)-avg Visibility (km)-low  \\\n",
      "1                   16                  16                  16   \n",
      "2                   16                  16                  16   \n",
      "3                   16                  16                  13   \n",
      "4                   16                  13                   4   \n",
      "5                   16                  14                   3   \n",
      "\n",
      "  Wind (km/h)-high Wind (km/h)-avg Wind (km/h)-high Precip. (mm) Events  \n",
      "1               26              16               40            0    NaN  \n",
      "2               16               6               32         0.76   Rain  \n",
      "3               21               9               26         2.03   Rain  \n",
      "4               42              22               52         2.54   Rain  \n",
      "5               53              27               63            T   Rain  \n",
      "\n",
      "[5 rows x 21 columns] \n",
      "\n"
     ]
    }
   ],
   "source": [
    "# Step 9: Drop first row of each month and set new headers\n",
    "for frame in data:\n",
    "    frame.drop(0, axis=0, inplace=True)\n",
    "    frame.columns = new_cols\n",
    "\n",
    "print(\"First Month Data (finalized headers):\")\n",
    "print(data[0].head(), \"\\n\")"
   ]
  },
  {
   "cell_type": "code",
   "execution_count": 12,
   "id": "a926b4dd-caff-42a6-8ee9-50a62f4d236d",
   "metadata": {},
   "outputs": [
    {
     "name": "stdout",
     "output_type": "stream",
     "text": [
      "Final Combined Data:\n",
      "       Date Temp. (°C)-high Temp. (°C)-avg Temp. (°C)-low Dew Point (°C)-high  \\\n",
      "0  2014/4/1              14              8              3                   2   \n",
      "1  2014/4/2               9              6              3                   5   \n",
      "2  2014/4/3              17             11              4                   5   \n",
      "3  2014/4/4               7              6              5                   6   \n",
      "4  2014/4/5              14              9              5                   6   \n",
      "\n",
      "  Dew Point (°C)-avg Dew Point (°C)-low Humidity (%)-high Humidity (%)-avg  \\\n",
      "0                 -2                 -4                76               56   \n",
      "1                  3                  1                92               81   \n",
      "2                  1                 -6                92               57   \n",
      "3                  3                  2                92               84   \n",
      "4                  0                 -6                93               63   \n",
      "\n",
      "  Humidity (%)-low  ... Sea Level Press. (hPa)-avg Sea Level Press. (hPa)-low  \\\n",
      "0               35  ...                       1019                       1016   \n",
      "1               70  ...                       1020                       1019   \n",
      "2               22  ...                       1019                       1017   \n",
      "3               76  ...                       1015                       1007   \n",
      "4               32  ...                       1011                       1007   \n",
      "\n",
      "  Visibility (km)-high Visibility (km)-avg Visibility (km)-low  \\\n",
      "0                   16                  16                  16   \n",
      "1                   16                  16                  16   \n",
      "2                   16                  16                  13   \n",
      "3                   16                  13                   4   \n",
      "4                   16                  14                   3   \n",
      "\n",
      "  Wind (km/h)-high Wind (km/h)-avg Wind (km/h)-high Precip. (mm) Events  \n",
      "0               26              16               40            0    NaN  \n",
      "1               16               6               32         0.76   Rain  \n",
      "2               21               9               26         2.03   Rain  \n",
      "3               42              22               52         2.54   Rain  \n",
      "4               53              27               63            T   Rain  \n",
      "\n",
      "[5 rows x 21 columns] \n",
      "\n",
      "Final data written to final.csv\n"
     ]
    }
   ],
   "source": [
    "# Step 10: Concatenate all monthly data into one DataFrame\n",
    "final = pd.concat(data, axis=0, ignore_index=True)\n",
    "print(\"Final Combined Data:\")\n",
    "print(final.head(), \"\\n\")\n",
    "\n",
    "# Step 11: Write to CSV\n",
    "final.to_csv('final.csv', index=None)\n",
    "print(\"Final data written to final.csv\")"
   ]
  },
  {
   "cell_type": "code",
   "execution_count": null,
   "id": "9fde9765-6d69-40c7-b983-57526441adb9",
   "metadata": {},
   "outputs": [],
   "source": []
  }
 ],
 "metadata": {
  "kernelspec": {
   "display_name": "Python 3 (ipykernel)",
   "language": "python",
   "name": "python3"
  },
  "language_info": {
   "codemirror_mode": {
    "name": "ipython",
    "version": 3
   },
   "file_extension": ".py",
   "mimetype": "text/x-python",
   "name": "python",
   "nbconvert_exporter": "python",
   "pygments_lexer": "ipython3",
   "version": "3.12.8"
  }
 },
 "nbformat": 4,
 "nbformat_minor": 5
}
