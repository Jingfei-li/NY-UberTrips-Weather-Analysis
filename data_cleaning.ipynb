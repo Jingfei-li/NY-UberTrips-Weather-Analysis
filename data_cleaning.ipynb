{
 "cells": [
  {
   "cell_type": "code",
   "execution_count": 1,
   "metadata": {},
   "outputs": [],
   "source": [
    "import pandas as pd\n",
    "\n",
    "# readin data\n",
    "df = pd.read_excel('NY Weather Data - Apr 14 - Jul 14 (1).xlsx')\n",
    "\n",
    "# Get the row index of each month (use string type to determine whether it is obtained)\n",
    "data_index = [i for i in range(len(df)) if str(df[2014][i]).isalpha()]\n",
    "\n",
    "# Divide by month and store in the data list\n",
    "data = []\n",
    "for i in range(len(data_index)):\n",
    "    if i!=len(data_index)-1:\n",
    "        data.append(df.iloc(axis=0)[data_index[i]:data_index[i+1]-1].reset_index(drop = True))\n",
    "    else:data.append(df.iloc(axis=0)[data_index[i]:].reset_index(drop = True))\n",
    "\n",
    "# get all columns\n",
    "column_names = [i for i in df.columns.tolist() if 'Unnamed' not in str(i)]\n",
    "\n",
    "# split columns\n",
    "columns = []\n",
    "# column_names[1:-2]\n",
    "for i in column_names[1:-2]:\n",
    "    columns =columns+((i+',')*3).split(',')[:-1]\n",
    "\n",
    "# explain numbers to month\n",
    "mouth_dict = {'Apr':'4','May':'5','Jun':'6',\"Jul\":'7'}\n",
    "\n",
    "# change the date\n",
    "for frame in data:\n",
    "    # frame是不同月份的数据\n",
    "    frame[2014][1:] = frame[2014][1:].apply(lambda x:'2014/'+mouth_dict[frame[2014][0]]+'/'+str(x))\n",
    "    frame.columns = [str(df.columns[0])]+columns+df.columns[-2:].tolist()\n",
    "    \n",
    "# change the header of each month\n",
    "new_cols = []\n",
    "for i,j in zip(data[0].columns[1:-2],data[0].iloc(axis =0)[0][1:-2]):\n",
    "    new_cols.append(i+'-'+j)\n",
    "    \n",
    "# combine headers\n",
    "new_cols = ['Date'] + new_cols + data[0].columns[-2:].tolist()\n",
    "\n",
    "# change the headers again\n",
    "for frame in data:\n",
    "    frame.drop(0,axis=0,inplace=True)\n",
    "    frame.columns = new_cols\n",
    "\n",
    "# combine\n",
    "final = pd.concat(data,axis=0,ignore_index=True)\n",
    "\n",
    "# write csv file\n",
    "final.to_csv('final.csv',index=None)"
   ]
  },
  {
   "cell_type": "code",
   "execution_count": 3,
   "metadata": {},
   "outputs": [],
   "source": [
    "import re\n",
    "\n",
    "# Load the file\n",
    "input_file = 'final.csv'\n",
    "output_file = 'cleaned_data.csv'\n",
    "\n",
    "with open(input_file, 'r', encoding='utf-8') as infile, open(output_file, 'w', encoding='utf-8') as outfile:\n",
    "    for line in infile:\n",
    "        # Remove or replace non-ASCII characters\n",
    "        cleaned_line = re.sub(r'[^\\x00-\\x7F]+', ' ', line)  # Replace non-ASCII characters with a space\n",
    "        outfile.write(cleaned_line)\n"
   ]
  },
  {
   "cell_type": "code",
   "execution_count": 4,
   "metadata": {},
   "outputs": [],
   "source": [
    "# Open and re-encode the cleaned file to UTF-8\n",
    "with open('cleaned_data.csv', 'r', encoding='utf-8') as infile:\n",
    "    content = infile.read()\n",
    "\n",
    "with open('utf8_data.csv', 'w', encoding='utf-8') as outfile:\n",
    "    outfile.write(content)\n"
   ]
  },
  {
   "cell_type": "code",
   "execution_count": null,
   "metadata": {},
   "outputs": [],
   "source": []
  }
 ],
 "metadata": {
  "kernelspec": {
   "display_name": "Python 3",
   "language": "python",
   "name": "python3"
  },
  "language_info": {
   "codemirror_mode": {
    "name": "ipython",
    "version": 3
   },
   "file_extension": ".py",
   "mimetype": "text/x-python",
   "name": "python",
   "nbconvert_exporter": "python",
   "pygments_lexer": "ipython3",
   "version": "3.8.3"
  }
 },
 "nbformat": 4,
 "nbformat_minor": 4
}
